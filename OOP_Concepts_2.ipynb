{
  "nbformat": 4,
  "nbformat_minor": 0,
  "metadata": {
    "colab": {
      "name": "OOP Concepts 2.ipynb",
      "provenance": [],
      "authorship_tag": "ABX9TyNoU1DWfaNnms39TJhoBX0T",
      "include_colab_link": true
    },
    "kernelspec": {
      "name": "python3",
      "display_name": "Python 3"
    },
    "language_info": {
      "name": "python"
    }
  },
  "cells": [
    {
      "cell_type": "markdown",
      "metadata": {
        "id": "view-in-github",
        "colab_type": "text"
      },
      "source": [
        "<a href=\"https://colab.research.google.com/github/MatLaurenValenzuela/OOP1-2/blob/main/OOP_Concepts_2.ipynb\" target=\"_parent\"><img src=\"https://colab.research.google.com/assets/colab-badge.svg\" alt=\"Open In Colab\"/></a>"
      ]
    },
    {
      "cell_type": "markdown",
      "source": [
        "##Classes with Multiple Objects"
      ],
      "metadata": {
        "id": "UL17XlHcVUS1"
      }
    },
    {
      "cell_type": "code",
      "execution_count": null,
      "metadata": {
        "colab": {
          "base_uri": "https://localhost:8080/"
        },
        "id": "KC38aNpZVQzx",
        "outputId": "3929529a-4df9-4d17-e431-9d426f656d35"
      },
      "outputs": [
        {
          "output_type": "stream",
          "name": "stdout",
          "text": [
            "Griffon Vulture flies above the sky\n",
            "Common Crane flies above the sky\n",
            "Emu is the national bird of the Philippines\n"
          ]
        }
      ],
      "source": [
        "class Birds:\n",
        "  def __init__(self,bird_name):\n",
        "    self.bird_name=bird_name\n",
        "\n",
        "  def flying_birds(self):\n",
        "    print(f\"{self.bird_name} flies above the sky\")\n",
        "  \n",
        "  def non_flying_birds(self):\n",
        "    print(f\"{self.bird_name} is the national bird of the Philippines\")\n",
        "\n",
        "vulture = Birds(\"Griffon Vulture\")\n",
        "crane = Birds(\"Common Crane\")\n",
        "emu = Birds(\"Emu\")\n",
        "\n",
        "vulture.flying_birds()\n",
        "crane.flying_birds()\n",
        "emu.non_flying_birds()"
      ]
    },
    {
      "cell_type": "markdown",
      "source": [
        "Encapsulation"
      ],
      "metadata": {
        "id": "GWFKGmOHXS3r"
      }
    },
    {
      "cell_type": "code",
      "source": [
        "class foo:\n",
        "  def __init__(self,a,b):\n",
        "    self.__a = a\n",
        "    self.__b = b\n",
        "\n",
        "  def add(self):\n",
        "    return self.__a + self.__b\n",
        "\n",
        "number = foo(3,4)\n",
        "number.add()\n",
        "\n",
        "number.a = 7\n",
        "number.add()"
      ],
      "metadata": {
        "colab": {
          "base_uri": "https://localhost:8080/"
        },
        "id": "e6lh-WrjXR4W",
        "outputId": "0f288692-4b6c-454c-dfd3-0f67d494fe26"
      },
      "execution_count": null,
      "outputs": [
        {
          "output_type": "execute_result",
          "data": {
            "text/plain": [
              "7"
            ]
          },
          "metadata": {},
          "execution_count": 8
        }
      ]
    },
    {
      "cell_type": "markdown",
      "source": [
        "Encapsulation with Private Attributes"
      ],
      "metadata": {
        "id": "6QBQ0p89ZjUu"
      }
    },
    {
      "cell_type": "code",
      "source": [
        "class Counter:\n",
        "  def __init__(self):\n",
        "    self.__current=0\n",
        "\n",
        "  def increment(self):\n",
        "    self.__current+=1\n",
        "  def value(self):\n",
        "    return self.__current\n",
        "  def reset(self):\n",
        "    self.__current=0\n",
        "\n",
        "num = Counter()\n",
        "\n",
        "num.increment()         #counter = counter + 1\n",
        "num.increment()\n",
        "num.increment()\n",
        "\n",
        "num.counter = 1\n",
        "\n",
        "num.value()\n"
      ],
      "metadata": {
        "colab": {
          "base_uri": "https://localhost:8080/"
        },
        "id": "OSwXYbmKZm3M",
        "outputId": "f3d9b037-8ba0-4c7c-98a8-c143dc50bfff"
      },
      "execution_count": null,
      "outputs": [
        {
          "output_type": "execute_result",
          "data": {
            "text/plain": [
              "3"
            ]
          },
          "metadata": {},
          "execution_count": 16
        }
      ]
    },
    {
      "cell_type": "markdown",
      "source": [
        "Inheritance"
      ],
      "metadata": {
        "id": "HxZdmhHYdVkP"
      }
    },
    {
      "cell_type": "code",
      "source": [
        "class Person:\n",
        "  def __init__(self, firstname, surname):\n",
        "    self.firstname = firstname\n",
        "    self.surname = surname\n",
        "  \n",
        "  def printname(self):\n",
        "    print(self.firstname, self.surname)\n",
        "\n",
        "person = Person(\"Ernest Danniel R.\", \"Tiston\")\n",
        "person.printname()\n",
        "\n",
        "class Teacher(Person):\n",
        "  pass\n",
        "\n",
        "person2 = Teacher(\"Kim\", \"Beligon\")\n",
        "person2.printname()\n",
        "\n",
        "class Student(Person):\n",
        "  pass\n",
        "\n",
        "person3 = Student(\"Landon\", \"Lorica\")\n",
        "person3.printname()"
      ],
      "metadata": {
        "colab": {
          "base_uri": "https://localhost:8080/"
        },
        "id": "FhJOPX_udXyO",
        "outputId": "bdd39058-a81a-4d8b-d9e6-581abfe18718"
      },
      "execution_count": null,
      "outputs": [
        {
          "output_type": "stream",
          "name": "stdout",
          "text": [
            "Ernest Danniel R. Tiston\n",
            "Kim Beligon\n",
            "Landon Lorica\n"
          ]
        }
      ]
    },
    {
      "cell_type": "markdown",
      "source": [
        "Polymorphism"
      ],
      "metadata": {
        "id": "aQsv5CYpfZiH"
      }
    },
    {
      "cell_type": "code",
      "source": [
        "class RegularPolygon:\n",
        "  def __init__(self,side):\n",
        "    self.side = side\n",
        "\n",
        "class Square(RegularPolygon):\n",
        "  def area(self):\n",
        "    return self.side*self.side\n",
        "class EquilateralTriangle(RegularPolygon):\n",
        "  def area(self):\n",
        "    return self.side*self.side*0.433\n",
        "  \n",
        "object = Square(4)\n",
        "print(object.area())\n",
        "\n",
        "object2 = EquilateralTriangle(3)\n",
        "print(object2.area())\n"
      ],
      "metadata": {
        "colab": {
          "base_uri": "https://localhost:8080/"
        },
        "id": "CSCETH-JfbUU",
        "outputId": "79897fb2-b1ee-451d-be5a-64b01f55f6f0"
      },
      "execution_count": null,
      "outputs": [
        {
          "output_type": "stream",
          "name": "stdout",
          "text": [
            "16\n",
            "3.897\n"
          ]
        }
      ]
    },
    {
      "cell_type": "markdown",
      "source": [
        "Application 1\n",
        "\n",
        "1.) Create a Python program that displays the name of three students \n",
        "    (Student  1. Student 2, and Student 3) and their term grades\n",
        "\n",
        "2.) Create a class name Person and attributes-std1 std2 std3, pre,mid,fin \n",
        "\n",
        "3.) Compute the average of each term grade using Grade() method\n",
        "\n",
        "4.) information about students grades must be hidden from others"
      ],
      "metadata": {
        "id": "eIDHE9s_hxgZ"
      }
    },
    {
      "cell_type": "code",
      "source": [
        "class Person:\n",
        "  def __init__(self, std, pre, mid, fin):\n",
        "    self.__std = std\n",
        "    self.__pre = pre\n",
        "    self.__mid = mid\n",
        "    self.__fin = fin\n",
        "  \n",
        "  def Grade(self):\n",
        "    return round((self.__pre + self.__mid + self.__fin)/3)\n",
        "\n",
        "class Student1(Person):\n",
        "  pass\n",
        "\n",
        "std1 = str(input(\"Input Name:  \"))\n",
        "prelim1 = float(input(\"Prelim Grade:\"))\n",
        "midterm1 = float(input(\"Midterm Grade:  \"))\n",
        "final1 = float (input(\"Final Grade:  \"))\n",
        "\n",
        "student1 = Person(std1, prelim1, midterm1, final1)\n",
        "\n",
        "print(\n",
        ")\n",
        "\n",
        "class Student2(Person):\n",
        "  pass\n",
        "\n",
        "std2 = str(input(\"Input Name:  \"))\n",
        "prelim2 = float(input(\"Prelim Grade:\"))\n",
        "midterm2 = float(input(\"Midterm Grade:  \"))\n",
        "final2 = float (input(\"Final Grade:  \"))\n",
        "\n",
        "student2 = Person(std2, prelim2, midterm2, final2)\n",
        "\n",
        "print(\n",
        ")\n",
        "\n",
        "class Student3(Person):\n",
        "  pass\n",
        "\n",
        "std3 = str(input(\"Input Name:  \"))\n",
        "prelim3 = float(input(\"Prelim Grade:\"))\n",
        "midterm3 = float(input(\"Midterm Grade:  \"))\n",
        "final3 = float (input(\"Final Grade:  \"))\n",
        "\n",
        "student3 = Person(std3, prelim3, midterm3, final3)\n",
        "\n",
        "print(\n",
        "    \n",
        ")\n",
        "\n",
        "std_name = str(input(\"Enter Name:\"))\n",
        "\n",
        "if std_name == std1:\n",
        "  print(\"Your General Weighted Average (GWA) is: \",student1.Grade())\n",
        "\n",
        "else:\n",
        "  if std_name == std2:\n",
        "    print(\"Your General Weighted Average (GWA) is: \",student2.Grade())\n",
        "    \n",
        "  else:\n",
        "    if std_name == std3:\n",
        "      print(\"Your General Weighted Average (GWA) is: \",student3.Grade())\n",
        "\n",
        "    else:\n",
        "      print(\"The Student is not on the List\")\n",
        "\n",
        "\n",
        "\n",
        "  \n",
        "\n",
        "\n",
        "\n",
        "\n",
        "\n",
        "\n",
        "\n",
        "\n",
        "  \n",
        "  \n",
        "\n",
        "  \n",
        "\n",
        "  "
      ],
      "metadata": {
        "colab": {
          "base_uri": "https://localhost:8080/"
        },
        "id": "zMjZwoAyvQRn",
        "outputId": "e5cf4a7d-5e88-4510-8bea-3d9b80fd7ba9"
      },
      "execution_count": 23,
      "outputs": [
        {
          "output_type": "stream",
          "name": "stdout",
          "text": [
            "Input Name:  Landon\n",
            "Prelim Grade:95\n",
            "Midterm Grade:  96\n",
            "Final Grade:  97\n",
            "\n",
            "Input Name:  Colleen\n",
            "Prelim Grade:91\n",
            "Midterm Grade:  95\n",
            "Final Grade:  96\n",
            "\n",
            "Input Name:  Ernest\n",
            "Prelim Grade:98\n",
            "Midterm Grade:  97\n",
            "Final Grade:  92\n",
            "\n",
            "Enter Name:Colleen\n",
            "Your General Weighted Average (GWA) is:  94\n"
          ]
        }
      ]
    }
  ]
}