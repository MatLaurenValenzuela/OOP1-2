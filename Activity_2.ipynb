{
  "nbformat": 4,
  "nbformat_minor": 0,
  "metadata": {
    "colab": {
      "name": "Activity 2.ipynb",
      "provenance": [],
      "collapsed_sections": [],
      "authorship_tag": "ABX9TyOYsn8Ux3LsatHw50SzbtTB",
      "include_colab_link": true
    },
    "kernelspec": {
      "name": "python3",
      "display_name": "Python 3"
    },
    "language_info": {
      "name": "python"
    }
  },
  "cells": [
    {
      "cell_type": "markdown",
      "metadata": {
        "id": "view-in-github",
        "colab_type": "text"
      },
      "source": [
        "<a href=\"https://colab.research.google.com/github/MatLaurenValenzuela/OOP1-2/blob/main/Activity_2.ipynb\" target=\"_parent\"><img src=\"https://colab.research.google.com/assets/colab-badge.svg\" alt=\"Open In Colab\"/></a>"
      ]
    },
    {
      "cell_type": "markdown",
      "source": [
        ""
      ],
      "metadata": {
        "id": "TwhPEU_fW6mg"
      }
    },
    {
      "cell_type": "code",
      "source": [
        "#Write a python program that computes that converts the temperature Celsius to Fahrenheit. Create  a class name Temperature \n",
        "#Create Celsius as attribute name, Temp() as method, and temp1 as object name. F=1.8xC + 32\n",
        "\n",
        "class Temperature:\n",
        "  def __init__(self, Celsius):\n",
        "    self.Celsius = Celsius\n",
        "  \n",
        "  def Temp(self):\n",
        "    return ((1.8* self.Celsius)+32)\n",
        "\n",
        "  \n",
        "input_temp = float(input(\"Input temperature in celsius: \"))\n",
        "temp1 = Temperature(input_temp)\n",
        "print(round(temp1.Temp(),2))\n",
        "\n"
      ],
      "metadata": {
        "colab": {
          "base_uri": "https://localhost:8080/"
        },
        "id": "1s5mO25cXbBa",
        "outputId": "b69d95ce-d8e6-495f-d0af-d15928d89ee6"
      },
      "execution_count": null,
      "outputs": [
        {
          "output_type": "stream",
          "name": "stdout",
          "text": [
            "Input temperature in celsius: 39\n",
            "102.2\n"
          ]
        }
      ]
    },
    {
      "cell_type": "code",
      "source": [
        "#Define an Area() method of the class that calculates the circle’s area.\n",
        "#Define a Perimeter() method of the class which allows you to calculate the perimeter of the circle.\n",
        "\n",
        "import math\n",
        "class Circle:\n",
        "  def __init__(self, Radius):\n",
        "    self.Radius = Radius\n",
        "  \n",
        "  def Area(self):\n",
        "    return ((math.pi)*(self.Radius*self.Radius))\n",
        "  \n",
        "  def Perimeter(self):\n",
        "    return (2*math.pi*self.Radius)\n",
        "\n",
        "input_radius = float(input(\"Input radius: \"))\n",
        "radius1 = Circle(input_radius)\n",
        "print(\"The Area of the Circle with the radius of\", input_radius, \"is\",round(radius1.Area(), 2))\n",
        "print(\"The Perimeter of the Circle with the radius of\", input_radius, \"is\",round(radius1.Perimeter(), 2))"
      ],
      "metadata": {
        "id": "SXfQX-ilHJBA",
        "colab": {
          "base_uri": "https://localhost:8080/"
        },
        "outputId": "ead89bea-cc44-44e4-ed71-6e95437cf612"
      },
      "execution_count": 41,
      "outputs": [
        {
          "output_type": "stream",
          "name": "stdout",
          "text": [
            "Input radius: 15\n",
            "The Area of the Circle with the radius of 15.0 is 706.86\n",
            "The Perimeter of the Circle with the radius of 15.0 is 94.25\n"
          ]
        }
      ]
    }
  ]
}