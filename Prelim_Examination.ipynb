{
  "nbformat": 4,
  "nbformat_minor": 0,
  "metadata": {
    "colab": {
      "name": "Prelim Examination.ipynb",
      "provenance": [],
      "authorship_tag": "ABX9TyPGnndiyhQJU25qHQ5esnzx",
      "include_colab_link": true
    },
    "kernelspec": {
      "name": "python3",
      "display_name": "Python 3"
    },
    "language_info": {
      "name": "python"
    }
  },
  "cells": [
    {
      "cell_type": "markdown",
      "metadata": {
        "id": "view-in-github",
        "colab_type": "text"
      },
      "source": [
        "<a href=\"https://colab.research.google.com/github/MatLaurenValenzuela/OOP1-2/blob/main/Prelim_Examination.ipynb\" target=\"_parent\"><img src=\"https://colab.research.google.com/assets/colab-badge.svg\" alt=\"Open In Colab\"/></a>"
      ]
    },
    {
      "cell_type": "markdown",
      "source": [
        "Problem 2\n",
        "1. Write a Python to display your full name, student number, age, and course\n",
        "2. Create a class named Student with attributes: Name, Student_No, Age, School,\n",
        "and Course\n",
        "3. Create an object name Myself and assign an instance for each attribute.\n",
        "4. Create a method Info() using an instantiation of a class.\n",
        "5. Insert your GitHub link \"Prelim Exam\" from your repository named \"OOP 1-2\""
      ],
      "metadata": {
        "id": "UejMY8Yjl1sP"
      }
    },
    {
      "cell_type": "code",
      "execution_count": 14,
      "metadata": {
        "colab": {
          "base_uri": "https://localhost:8080/"
        },
        "id": "WkYw4Rn4li8N",
        "outputId": "abf87f7f-9d2a-4e67-8522-90d0b498349f"
      },
      "outputs": [
        {
          "output_type": "stream",
          "name": "stdout",
          "text": [
            "\n",
            " My name is Mat Lauren Keiser R. Valenzuela \n",
            " My student number is 202101926 \n",
            " I am 19 years old \n",
            " I am currently studying at Cavite State University - Indang taking Computer Engineering\n"
          ]
        }
      ],
      "source": [
        "class Student:\n",
        "  def __init__(self,Name,Student_No,Age,School,Course):\n",
        "    self.Name = Name\n",
        "    self.Student_No = Student_No\n",
        "    self.Age = Age\n",
        "    self.School = School\n",
        "    self.Course = Course\n",
        "  \n",
        "  def Info(self):\n",
        "    print(\"\\n\", \"My name is\", self.Name,\n",
        "          \"\\n\", \"My student number is\", self.Student_No,\n",
        "          \"\\n\", \"I am\", self.Age,\"years old\", \n",
        "          \"\\n\", \"I am currently studying at\", self.School, \"taking\", self.Course)\n",
        "  \n",
        "Myself = Student(\"Mat Lauren Keiser R. Valenzuela\", \"202101926\" , \"19\" , \"Cavite State University - Indang\", \"Computer Engineering\")\n",
        "Myself.Info()\n",
        "\n"
      ]
    }
  ]
}