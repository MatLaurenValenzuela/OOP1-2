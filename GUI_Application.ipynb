{
  "nbformat": 4,
  "nbformat_minor": 0,
  "metadata": {
    "colab": {
      "name": "GUI Application.ipynb",
      "provenance": [],
      "authorship_tag": "ABX9TyMzMt/JItPAOpwgFXnELtES",
      "include_colab_link": true
    },
    "kernelspec": {
      "name": "python3",
      "display_name": "Python 3"
    },
    "language_info": {
      "name": "python"
    }
  },
  "cells": [
    {
      "cell_type": "markdown",
      "metadata": {
        "id": "view-in-github",
        "colab_type": "text"
      },
      "source": [
        "<a href=\"https://colab.research.google.com/github/MatLaurenValenzuela/OOP1-2/blob/main/GUI_Application.ipynb\" target=\"_parent\"><img src=\"https://colab.research.google.com/assets/colab-badge.svg\" alt=\"Open In Colab\"/></a>"
      ]
    },
    {
      "cell_type": "code",
      "execution_count": 17,
      "metadata": {
        "colab": {
          "base_uri": "https://localhost:8080/"
        },
        "id": "RWSPQAryuWSB",
        "outputId": "f1c3b22d-cfb9-48ec-b2c6-09b357a75102"
      },
      "outputs": [
        {
          "output_type": "stream",
          "name": "stdout",
          "text": [
            "The prelim grade of student 1 is 100\n",
            "The midterm grade of student 1 is 90\n",
            "The final grade of student 1 is 100\n",
            "The semestral grade of student 1 is 96.66666666666667\n",
            "Male\n"
          ]
        }
      ],
      "source": [
        "#@title Students Grade in OOP\n",
        "\n",
        "Student_Name = \"Enter the Student Name\"#@param {type: \"string\"}\n",
        "prelim = 100 #@param {type: \"number\"}\n",
        "midterm =  90#@param {type: \"number\"}\n",
        "final = 100 #@param {type: \"number\"}\n",
        "semestral_grade = (prelim+midterm+final)/3\n",
        "\n",
        "print(\"The prelim grade of student 1 is\"+\" \"+  str(prelim))\n",
        "print(\"The midterm grade of student 1 is\"+\" \"+  str(midterm))\n",
        "print(\"The final grade of student 1 is\"+\" \"+  str(final))\n",
        "print(\"The semestral grade of student 1 is\"+\" \"+ str(semestral_grade))\n",
        "\n",
        "#@title Gender \n",
        "Gender=\"Male\"#@param [\"Female\",\"Male\"]\n",
        "print(Gender)\n",
        "\n",
        "Birthdate='2012-04-07'#@param {type: \"date\"}"
      ]
    }
  ]
}