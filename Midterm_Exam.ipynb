{
  "nbformat": 4,
  "nbformat_minor": 0,
  "metadata": {
    "colab": {
      "name": "Midterm Exam.ipynb",
      "provenance": [],
      "collapsed_sections": [],
      "authorship_tag": "ABX9TyMG08AxLn/H2a2ylnz+lOPh",
      "include_colab_link": true
    },
    "kernelspec": {
      "name": "python3",
      "display_name": "Python 3"
    },
    "language_info": {
      "name": "python"
    }
  },
  "cells": [
    {
      "cell_type": "markdown",
      "metadata": {
        "id": "view-in-github",
        "colab_type": "text"
      },
      "source": [
        "<a href=\"https://colab.research.google.com/github/MatLaurenValenzuela/OOP1-2/blob/main/Midterm_Exam.ipynb\" target=\"_parent\"><img src=\"https://colab.research.google.com/assets/colab-badge.svg\" alt=\"Open In Colab\"/></a>"
      ]
    },
    {
      "cell_type": "code",
      "execution_count": 20,
      "metadata": {
        "id": "AH2rzFTSj0wI",
        "colab": {
          "base_uri": "https://localhost:8080/"
        },
        "outputId": "b4e758d4-c68e-45b3-bf83-03eb2ff0a0ab"
      },
      "outputs": [
        {
          "output_type": "stream",
          "name": "stdout",
          "text": [
            "Enter the temperature in Celsius: 90\n",
            "363.15 Kelvin \n",
            "194.0 Fahrenheit\n",
            "\n",
            "\n",
            "Enter the temperature in Fahrenheit: 50\n",
            "10.0 Celsius \n",
            "\n",
            "\n",
            "Enter the temperature in Kelvin: 0\n",
            "-273.15 Celsius \n"
          ]
        }
      ],
      "source": [
        "def main():\n",
        "    class TemperatureConversion:\n",
        "      def __init__(self, temp=1):\n",
        "        self._temp = temp\n",
        "    class CelsiusToFahrenheit(TemperatureConversion):\n",
        "      def conversion(self):\n",
        "        return (self._temp * 9) / 5 + 32\n",
        "    class CelsiusToKelvin(TemperatureConversion):\n",
        "      def conversion(self):\n",
        "        return self._temp + 273.15\n",
        "\n",
        "    tempInCelsius = float(input(\"Enter the temperature in Celsius: \"))\n",
        "    convert = CelsiusToKelvin(tempInCelsius)\n",
        "    print(str(convert.conversion()) + \" Kelvin \")\n",
        "    convert = CelsiusToFahrenheit(tempInCelsius)\n",
        "    print(str(convert.conversion()) + \" Fahrenheit\")\n",
        "\n",
        "    class FahrenheitToCelsius(TemperatureConversion):\n",
        "      def conversion(self):\n",
        "        return (self._temp - 32) / 1.8\n",
        "    class KelvinToCelsius(TemperatureConversion):\n",
        "      def conversion(self):\n",
        "        return self._temp - 273.15\n",
        "    \n",
        "    print('\\n')\n",
        "    tempInFahrenheit = float(input(\"Enter the temperature in Fahrenheit: \"))\n",
        "    convert = FahrenheitToCelsius(tempInFahrenheit)\n",
        "    print(str(round(convert.conversion(),2)) + \" Celsius \")\n",
        "    print('\\n')\n",
        "    tempInKelvin = float(input(\"Enter the temperature in Kelvin: \"))\n",
        "    convert = KelvinToCelsius(tempInKelvin)\n",
        "    print(str(round(convert.conversion(),2)) + \" Celsius \")\n",
        "\n",
        "\n",
        "\n",
        "\n",
        "main()"
      ]
    }
  ]
}